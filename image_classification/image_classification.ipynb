{
  "cells": [
    {
      "cell_type": "markdown",
      "metadata": {
        "id": "view-in-github",
        "colab_type": "text"
      },
      "source": [
        "<a href=\"https://colab.research.google.com/github/yuliagrajewska/Computer-Vision-projects/blob/main/image_classification/image_classification.ipynb\" target=\"_parent\"><img src=\"https://colab.research.google.com/assets/colab-badge.svg\" alt=\"Open In Colab\"/></a>"
      ]
    },
    {
      "cell_type": "code",
      "execution_count": null,
      "id": "2286bfa9",
      "metadata": {
        "id": "2286bfa9"
      },
      "outputs": [],
      "source": [
        "import numpy as np\n",
        "import os\n",
        "import torch\n",
        "import torchvision\n",
        "import torchvision.transforms as transforms\n",
        "import torch.nn as nn\n",
        "import torch.nn.functional as F\n",
        "import matplotlib.pyplot as plt\n",
        "from torch.utils.data import Dataset, DataLoader"
      ]
    },
    {
      "cell_type": "code",
      "execution_count": null,
      "id": "c3edc0d9",
      "metadata": {
        "id": "c3edc0d9",
        "outputId": "e009c5d9-dc6a-4dbb-8f0f-5b8e55113cf2"
      },
      "outputs": [
        {
          "name": "stdout",
          "output_type": "stream",
          "text": [
            "cuda:0\n"
          ]
        }
      ],
      "source": [
        "device = torch.device('cuda:0' if torch.cuda.is_available() else 'cpu')\n",
        "print(device)"
      ]
    },
    {
      "cell_type": "code",
      "execution_count": null,
      "id": "67fc770d",
      "metadata": {
        "id": "67fc770d"
      },
      "outputs": [],
      "source": [
        "def normalize(data): #returns the data normalized to range [-1,1]\n",
        "    return 2*(data/255)-1"
      ]
    },
    {
      "cell_type": "code",
      "execution_count": null,
      "id": "fd76d1b0",
      "metadata": {
        "id": "fd76d1b0"
      },
      "outputs": [],
      "source": [
        "#function for opening the data - from the readme of the dataset\n",
        "def unpickle(file):\n",
        "    import pickle\n",
        "    with open(file, 'rb') as fo:\n",
        "        d = pickle.load(fo, encoding='bytes')\n",
        "    data = np.asarray(d.get(b'data'))\n",
        "    answers = np.asarray(d.get(b'labels'))\n",
        "    return data,answers"
      ]
    },
    {
      "cell_type": "code",
      "execution_count": null,
      "id": "696b6a9e",
      "metadata": {
        "id": "696b6a9e"
      },
      "outputs": [],
      "source": [
        "class ImageDataset(Dataset): #class for creating an image dataset\n",
        "    def __init__(self, im, answers):\n",
        "        self.answers = torch.from_numpy(answers).type(torch.LongTensor)\n",
        "        self.im = torch.from_numpy(im).type(torch.float32)\n",
        "\n",
        "    def __len__(self):\n",
        "        return len(self.answers)\n",
        "    def __getitem__(self, idx):\n",
        "        answer = self.answers[idx]\n",
        "        img = self.im[idx]\n",
        "\n",
        "        return (img,answer)"
      ]
    },
    {
      "cell_type": "code",
      "execution_count": null,
      "id": "9dd485ef",
      "metadata": {
        "id": "9dd485ef"
      },
      "outputs": [],
      "source": [
        "#loading all the test & train files\n",
        "test,test_key = unpickle('cifar-10-batches-py/test_batch')\n",
        "t1data, t1key = unpickle('cifar-10-batches-py/data_batch_1')\n",
        "t2data, t2key = unpickle('cifar-10-batches-py/data_batch_2')\n",
        "t3data, t3key = unpickle('cifar-10-batches-py/data_batch_3')\n",
        "t4data, t4key = unpickle('cifar-10-batches-py/data_batch_4')\n",
        "t5data, t5key = unpickle('cifar-10-batches-py/data_batch_5')\n"
      ]
    },
    {
      "cell_type": "code",
      "execution_count": null,
      "id": "b14bf7b8",
      "metadata": {
        "id": "b14bf7b8"
      },
      "outputs": [],
      "source": [
        "#normalizing all the data\n",
        "test = normalize(test)\n",
        "t1data = normalize(t1data)\n",
        "t2data = normalize(t2data)\n",
        "t3data = normalize(t3data)\n",
        "t4data = normalize(t4data)\n",
        "t5data = normalize(t5data)\n"
      ]
    },
    {
      "cell_type": "code",
      "execution_count": null,
      "id": "003f3e92",
      "metadata": {
        "id": "003f3e92",
        "outputId": "25e3c891-1046-4e18-92d4-39ca95f94531"
      },
      "outputs": [
        {
          "name": "stdout",
          "output_type": "stream",
          "text": [
            "(50000, 3, 32, 32)\n"
          ]
        }
      ],
      "source": [
        "#formatting the data so that pytorch doesn't complain\n",
        "train = np.concatenate((t1data,t2data,t3data,t4data,t5data), axis = 0)\n",
        "train_temp = []\n",
        "for d in train:\n",
        "    a = np.split(d,3)\n",
        "    train_temp.append(a)\n",
        "train_temp = np.asarray(train_temp)\n",
        "a_temp = []\n",
        "for d in train_temp:\n",
        "    temp = []\n",
        "    for a in d:\n",
        "        #print(a.shape)\n",
        "        b = np.split(a,32)\n",
        "        temp.append(b)\n",
        "    a_temp.append(temp)\n",
        "train_data = np.asarray(a_temp)\n",
        "\n",
        "#print(train_data.shape)\n",
        "train_key =  np.concatenate((t1key,t2key,t3key,t4key,t5key), axis = 0)\n",
        "#print(train_data.shape)"
      ]
    },
    {
      "cell_type": "code",
      "execution_count": null,
      "id": "9551b728",
      "metadata": {
        "id": "9551b728",
        "outputId": "c1640f95-6fbf-4feb-acd9-107214dd8b26"
      },
      "outputs": [
        {
          "name": "stdout",
          "output_type": "stream",
          "text": [
            "(10000, 3, 32, 32)\n"
          ]
        }
      ],
      "source": [
        "test_temp = []\n",
        "for d in test:\n",
        "    a = np.split(d,3)\n",
        "    test_temp.append(a)\n",
        "a_temp = []\n",
        "for d in test_temp:\n",
        "    temp = []\n",
        "    for a in d:\n",
        "        #print(a.shape)\n",
        "        b = np.split(a,32)\n",
        "        temp.append(b)\n",
        "    a_temp.append(temp)\n",
        "test_data = np.asarray(a_temp)\n",
        "#print(test_data.shape)"
      ]
    },
    {
      "cell_type": "code",
      "execution_count": null,
      "id": "5f1ed567",
      "metadata": {
        "id": "5f1ed567"
      },
      "outputs": [],
      "source": [
        "trainset = ImageDataset(train_data,train_key)\n",
        "testset = ImageDataset(test_data, test_key)"
      ]
    },
    {
      "cell_type": "code",
      "execution_count": null,
      "id": "bd320f69",
      "metadata": {
        "id": "bd320f69"
      },
      "outputs": [],
      "source": [
        "batch_size = 50\n",
        "trainloader = torch.utils.data.DataLoader(trainset, batch_size=batch_size,\n",
        "                                          shuffle=True)\n",
        "testloader = torch.utils.data.DataLoader(testset, batch_size=batch_size,\n",
        "                                         shuffle=False)\n",
        "classes = ('plane', 'car', 'bird', 'cat','deer', 'dog', 'frog', 'horse', 'ship', 'truck')"
      ]
    },
    {
      "cell_type": "code",
      "execution_count": null,
      "id": "2bb4c21a",
      "metadata": {
        "id": "2bb4c21a",
        "outputId": "d2468c4b-2862-4c98-b287-3a6eec85bf61"
      },
      "outputs": [
        {
          "name": "stdout",
          "output_type": "stream",
          "text": [
            "1000\n"
          ]
        }
      ],
      "source": [
        "n_batches = int(train_data.shape[0] / batch_size)\n",
        "#print(n_batches)"
      ]
    },
    {
      "cell_type": "code",
      "execution_count": null,
      "id": "c18c9cd7",
      "metadata": {
        "id": "c18c9cd7"
      },
      "outputs": [],
      "source": [
        "#CNN class\n",
        "class CNN(nn.Module):\n",
        "    def __init__(self):\n",
        "        super().__init__()\n",
        "        self.conv1 = nn.Conv2d(3, 6, 5)\n",
        "        self.pool = nn.MaxPool2d(2, 2)\n",
        "        self.conv2 = nn.Conv2d(6, 16, 5)\n",
        "        self.fc1 = nn.Linear(16 * 5 * 5, 10)\n",
        "#         self.fc1 = nn.Linear(16 * 5 * 5, 120)\n",
        "#         self.fc2 = nn.Linear(120, 84)\n",
        "#         self.fc3 = nn.Linear(84, 10)\n",
        "\n",
        "    def forward(self, x):\n",
        "        x = self.pool(F.relu(self.conv1(x)))\n",
        "        x = self.pool(F.relu(self.conv2(x)))\n",
        "        x = torch.flatten(x, 1)\n",
        "        x = self.fc1(x)\n",
        "#         x = F.relu(self.fc1(x))\n",
        "#         x = F.relu(self.fc2(x))\n",
        "#         x = self.fc3(x)\n",
        "        return x"
      ]
    },
    {
      "cell_type": "code",
      "execution_count": null,
      "id": "21d7b14b",
      "metadata": {
        "id": "21d7b14b"
      },
      "outputs": [],
      "source": [
        "cnn = CNN()"
      ]
    },
    {
      "cell_type": "code",
      "execution_count": null,
      "id": "bc839131",
      "metadata": {
        "id": "bc839131"
      },
      "outputs": [],
      "source": [
        "import torch.optim as optim\n",
        "\n",
        "criterion = nn.CrossEntropyLoss()\n",
        "optimizer = optim.Adam(cnn.parameters(), lr=0.0005, weight_decay=0.001)"
      ]
    },
    {
      "cell_type": "code",
      "execution_count": null,
      "id": "fcf208fd",
      "metadata": {
        "id": "fcf208fd",
        "outputId": "e822db87-91e6-4ab9-90f4-b3d8a4a82046"
      },
      "outputs": [
        {
          "name": "stdout",
          "output_type": "stream",
          "text": [
            "[1,   250] loss: 0.947\n",
            "[1,   500] loss: 0.928\n",
            "[1,   750] loss: 0.943\n",
            "[1,  1000] loss: 0.940\n",
            "[2,   250] loss: 0.933\n",
            "[2,   500] loss: 0.944\n",
            "[2,   750] loss: 0.922\n",
            "[2,  1000] loss: 0.955\n",
            "[3,   250] loss: 0.927\n",
            "[3,   500] loss: 0.930\n",
            "[3,   750] loss: 0.932\n",
            "[3,  1000] loss: 0.960\n",
            "[4,   250] loss: 0.924\n",
            "[4,   500] loss: 0.932\n",
            "[4,   750] loss: 0.931\n",
            "[4,  1000] loss: 0.952\n",
            "[5,   250] loss: 0.922\n",
            "[5,   500] loss: 0.935\n",
            "[5,   750] loss: 0.942\n",
            "[5,  1000] loss: 0.927\n",
            "[6,   250] loss: 0.921\n",
            "[6,   500] loss: 0.921\n",
            "[6,   750] loss: 0.941\n",
            "[6,  1000] loss: 0.938\n",
            "[7,   250] loss: 0.916\n",
            "[7,   500] loss: 0.931\n",
            "[7,   750] loss: 0.939\n",
            "[7,  1000] loss: 0.927\n",
            "[8,   250] loss: 0.932\n",
            "[8,   500] loss: 0.912\n",
            "[8,   750] loss: 0.941\n",
            "[8,  1000] loss: 0.932\n",
            "[9,   250] loss: 0.924\n",
            "[9,   500] loss: 0.939\n",
            "[9,   750] loss: 0.918\n",
            "[9,  1000] loss: 0.921\n",
            "[10,   250] loss: 0.923\n",
            "[10,   500] loss: 0.921\n",
            "[10,   750] loss: 0.922\n",
            "[10,  1000] loss: 0.932\n",
            "done\n"
          ]
        }
      ],
      "source": [
        "loss_arr = []\n",
        "for epoch in range(10):\n",
        "\n",
        "    r_loss = 0.0\n",
        "    for i, data in enumerate(trainloader,0):\n",
        "\n",
        "        inputs, labels = data\n",
        "        optimizer.zero_grad()\n",
        "        outputs = cnn(inputs)\n",
        "        loss = criterion(outputs, labels)\n",
        "        loss.backward()\n",
        "        optimizer.step()\n",
        "\n",
        "        r_loss += loss.item()\n",
        "        if i % 250 == 249:\n",
        "            print(f'[{epoch + 1}, {i + 1:5d}] loss: {r_loss / 250:.3f}')\n",
        "            loss_arr.append(r_loss/250)\n",
        "            #print('loss appended')\n",
        "            r_loss = 0.0\n",
        "\n",
        "print('done')"
      ]
    },
    {
      "cell_type": "code",
      "execution_count": null,
      "id": "0b1960a4",
      "metadata": {
        "id": "0b1960a4"
      },
      "outputs": [],
      "source": [
        "classification = cnn(images)"
      ]
    },
    {
      "cell_type": "code",
      "execution_count": null,
      "id": "cf6a8f1a",
      "metadata": {
        "id": "cf6a8f1a",
        "outputId": "573ed272-b6a0-4e38-e56a-f3ca84ecc9a7"
      },
      "outputs": [
        {
          "name": "stdout",
          "output_type": "stream",
          "text": [
            "accuracy on the test images: 64 %\n"
          ]
        }
      ],
      "source": [
        "#testing\n",
        "correct = 0\n",
        "total = 0\n",
        "with torch.no_grad():\n",
        "    for data in testloader:\n",
        "        images, labels = data\n",
        "        classification = cnn(images)\n",
        "        _, predicted = torch.max(classification.data, 1)\n",
        "        total += labels.size(0)\n",
        "        correct += (predicted == labels).sum().item()\n",
        "\n",
        "print(f'accuracy on the test images: {100 * correct // total} %')"
      ]
    },
    {
      "cell_type": "code",
      "execution_count": null,
      "id": "8ae9697c",
      "metadata": {
        "id": "8ae9697c",
        "outputId": "e6a6cbe5-f839-4f23-daa8-6dff596b5923"
      },
      "outputs": [
        {
          "data": {
            "text/plain": [
              "[<matplotlib.lines.Line2D at 0x26ab956da30>]"
            ]
          },
          "execution_count": 113,
          "metadata": {},
          "output_type": "execute_result"
        },
        {
          "data": {
            "image/png": "[encoded data removed]",
            "text/plain": [
              "<Figure size 640x480 with 1 Axes>"
            ]
          },
          "metadata": {},
          "output_type": "display_data"
        }
      ],
      "source": [
        "#plot loss over training\n",
        "len(loss_arr)\n",
        "x = np.arange(len(loss_arr))\n",
        "plt.plot(x,loss_arr)"
      ]
    },
    {
      "cell_type": "code",
      "execution_count": null,
      "id": "35dce3f0",
      "metadata": {
        "id": "35dce3f0"
      },
      "outputs": [],
      "source": []
    }
  ],
  "metadata": {
    "kernelspec": {
      "display_name": "Python 3 (ipykernel)",
      "language": "python",
      "name": "python3"
    },
    "language_info": {
      "codemirror_mode": {
        "name": "ipython",
        "version": 3
      },
      "file_extension": ".py",
      "mimetype": "text/x-python",
      "name": "python",
      "nbconvert_exporter": "python",
      "pygments_lexer": "ipython3",
      "version": "3.9.13"
    },
    "colab": {
      "provenance": [],
      "include_colab_link": true
    }
  },
  "nbformat": 4,
  "nbformat_minor": 5
}