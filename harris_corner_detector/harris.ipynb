{
  "nbformat": 4,
  "nbformat_minor": 0,
  "metadata": {
    "colab": {
      "provenance": [],
      "authorship_tag": "ABX9TyPgi/V00Ydw0CWTCcpeymVd",
      "include_colab_link": true
    },
    "kernelspec": {
      "name": "python3",
      "display_name": "Python 3"
    },
    "language_info": {
      "name": "python"
    }
  },
  "cells": [
    {
      "cell_type": "markdown",
      "metadata": {
        "id": "view-in-github",
        "colab_type": "text"
      },
      "source": [
        "<a href=\"https://colab.research.google.com/github/yuliagrajewska/Computer-Vision-projects/blob/main/harris_corner_detector/harris.ipynb\" target=\"_parent\"><img src=\"https://colab.research.google.com/assets/colab-badge.svg\" alt=\"Open In Colab\"/></a>"
      ]
    },
    {
      "cell_type": "code",
      "source": [
        "#imports\n",
        "import numpy as np\n",
        "import cv2\n",
        "from matplotlib import pyplot as plt"
      ],
      "metadata": {
        "id": "ADx3q201ur5q"
      },
      "execution_count": null,
      "outputs": []
    },
    {
      "cell_type": "code",
      "source": [
        "#convolution function\n",
        "def convolve2d(image, kernel):\n",
        "  sizeX, sizeY = image.shape\n",
        "  kernel = np.flipud(np.fliplr(kernel))\n",
        "  stride = 1\n",
        "  k_sizeX, k_sizeY = kernel.shape\n",
        "  padding = get_padding_size(k_sizeX)\n",
        "  padded_img = add_padding(image,padding)\n",
        "\n",
        "  im_sizeX, im_sizeY = padded_img.shape\n",
        "  targX,targY = target_size(sizeX, k_sizeX), target_size(sizeY, k_sizeY)\n",
        "  output = np.zeros((sizeX,sizeY))\n",
        "\n",
        "  for y in range(0,targY,stride):\n",
        "    if y > im_sizeY-k_sizeY:\n",
        "      break\n",
        "\n",
        "    for x in range(0,targX,stride):\n",
        "      if x > im_sizeX-k_sizeX:\n",
        "        break\n",
        "      res = padded_img[x:x+k_sizeX, y:y+k_sizeY]\n",
        "      output[x, y] = np.sum(np.multiply(res, kernel))\n",
        "\n",
        "  return output\n",
        "\n",
        "def get_padding_size(k_size):\n",
        "  return k_size//2\n",
        "\n",
        "def add_padding(image, padding):\n",
        "  padded_img = np.zeros(shape = (image.shape[0]+padding*2, image.shape[1]+padding*2))\n",
        "  padded_img[padding:-padding, padding:-padding] = image\n",
        "  return padded_img"
      ],
      "metadata": {
        "id": "5aJXLl_gur13"
      },
      "execution_count": null,
      "outputs": []
    },
    {
      "cell_type": "code",
      "source": [
        "def target_size(img, kernel):\n",
        "    n = 0\n",
        "    # From 0 up to img size\n",
        "    for i in range(img):\n",
        "        # + kernel size\n",
        "        added = i + kernel\n",
        "        if added <= img:\n",
        "            n += 1\n",
        "    return n"
      ],
      "metadata": {
        "id": "6WG7OycNxCuW"
      },
      "execution_count": null,
      "outputs": []
    },
    {
      "cell_type": "code",
      "source": [
        "#Sobel kernels\n",
        "Sx = np.array([[-1, 0, 1],\n",
        "               [ -2, 0, 2],\n",
        "               [-1, 0, 1]])\n",
        "\n",
        "Sy = np.array([[1, 2, 1],\n",
        "               [0, 0, 0],\n",
        "              [-1, -2, -1]])"
      ],
      "metadata": {
        "id": "f7WwC5N4urxs"
      },
      "execution_count": null,
      "outputs": []
    },
    {
      "cell_type": "code",
      "source": [
        "#function for reading an image file\n",
        "def read_image(image_name):\n",
        "  input_image = cv2.imread(image_name)\n",
        "  #print(input_image.shape)\n",
        "  input_image = cv2.cvtColor(src=input_image, code=cv2.COLOR_BGR2GRAY)\n",
        "  return input_image\n"
      ],
      "metadata": {
        "id": "ix3KCqHpvD_5"
      },
      "execution_count": null,
      "outputs": []
    },
    {
      "cell_type": "code",
      "source": [
        "#reading the imag in color\n",
        "def read_image2(image_name):\n",
        "  input_image = cv2.imread(image_name)\n",
        "  #print(input_image.shape)\n",
        "  input_image = cv2.cvtColor(src=input_image, code=cv2.COLOR_BGR2RGB)\n",
        "  return input_image"
      ],
      "metadata": {
        "id": "RjWAWXl-vQt6"
      },
      "execution_count": null,
      "outputs": []
    },
    {
      "cell_type": "code",
      "execution_count": null,
      "metadata": {
        "id": "1ASKx2wxFcdm"
      },
      "outputs": [],
      "source": [
        "def harris(img_name,k,threshold,window_size):\n",
        "\n",
        "    img = read_image2(img_name)\n",
        "    gray = read_image(img_name)\n",
        "    X,Y = img.shape[0], img.shape[1]\n",
        "    R = np.zeros((X,Y))\n",
        "\n",
        "    #Image derivatives\n",
        "    dx = convolve2d(gray,Sx)\n",
        "    dy = convolve2d(gray,Sy)\n",
        "    dx2=np.square(dx)\n",
        "    dy2=np.square(dy)\n",
        "    dxy=dx*dy\n",
        "\n",
        "    off = int( window_size / 2 )\n",
        "    for y in range(off, X-off):\n",
        "        for x in range(off, Y-off):\n",
        "            Sx2 = np.sum(dx2[y-off:y+1+off, x-off:x+1+off])\n",
        "            Sy2 = np.sum(dy2[y-off:y+1+off, x-off:x+1+off])\n",
        "            Sxy = np.sum(dxy[y-off:y+1+off, x-off:x+1+off])\n",
        "\n",
        "            H = np.array([[Sx2,Sxy],[Sxy,Sy2]])\n",
        "\n",
        "            #response function\n",
        "            det=np.linalg.det(H)\n",
        "            trace=np.matrix.trace(H)\n",
        "            Resp=det-k*(trace**2)\n",
        "            R[int(y-off),int(x-off)]=Resp\n",
        "\n",
        "    # thresholding\n",
        "    cv2.normalize(R, R, 0, 1, cv2.NORM_MINMAX)\n",
        "    for y in range(off, X-off):\n",
        "        for x in range(off, Y-off):\n",
        "            val=R[y, x]\n",
        "            if val>threshold:\n",
        "                cv2.circle(img,(x,y),1,(255,0,0))\n",
        "\n",
        "    plt.imshow(img)\n",
        "    plt.title(\"Harris detector\")\n",
        "    plt.savefig('Harris.png', dpi = 200)\n",
        "    plt.show()\n",
        ""
      ]
    },
    {
      "cell_type": "code",
      "source": [
        "harris(\"box.jpg\", 0.04, 0.15, 3)"
      ],
      "metadata": {
        "id": "uWXDTP_p3RxD",
        "colab": {
          "base_uri": "https://localhost:8080/",
          "height": 281
        },
        "outputId": "7e7d8e90-de4e-42e1-cfbc-35678aaee4d1"
      },
      "execution_count": null,
      "outputs": [
        {
          "output_type": "display_data",
          "data": {
            "text/plain": [
              "<Figure size 432x288 with 1 Axes>"
            ],
            "image/png": "[encoded data removed]"
          },
          "metadata": {
            "needs_background": "light"
          }
        }
      ]
    },
    {
      "cell_type": "code",
      "source": [
        "harris(\"Box2.jpg\", 0.04, 0.4, 3)"
      ],
      "metadata": {
        "colab": {
          "base_uri": "https://localhost:8080/",
          "height": 281
        },
        "id": "pyV_evYd5lmD",
        "outputId": "4f170e9a-d1c5-4a10-e695-b9cd8c74e1d7"
      },
      "execution_count": null,
      "outputs": [
        {
          "output_type": "display_data",
          "data": {
            "text/plain": [
              "<Figure size 432x288 with 1 Axes>"
            ],
            "image/png": "[encoded data removed]"
          },
          "metadata": {
            "needs_background": "light"
          }
        }
      ]
    }
  ]
}